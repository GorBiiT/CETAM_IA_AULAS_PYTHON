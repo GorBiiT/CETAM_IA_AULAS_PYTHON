{
 "cells": [
  {
   "cell_type": "code",
   "execution_count": 4,
   "id": "f5622bd8",
   "metadata": {},
   "outputs": [
    {
     "name": "stdout",
     "output_type": "stream",
     "text": [
      "O VALOR DO ps5 É DE R$ 6000,00\n"
     ]
    }
   ],
   "source": [
    "eletronicos=['ps3', 'ps4', 'ps5', 'xbox', 'iphone']\n",
    "valor=['1000', '2000', '5000', '4500', '6000']\n",
    "print(\"O VALOR DO {} É DE R$ {},00\". format(eletronicos[2], valor[4]))"
   ]
  },
  {
   "cell_type": "code",
   "execution_count": 27,
   "id": "bd6b0263",
   "metadata": {},
   "outputs": [
    {
     "name": "stdout",
     "output_type": "stream",
     "text": [
      "O VALOR DO ps3 É DE R$ 1000,00\n",
      "O VALOR DO ps4 É DE R$ 2000,00\n",
      "O VALOR DO ps5 É DE R$ 5000,00\n"
     ]
    }
   ],
   "source": [
    "for i in range(3):\n",
    "    print(\"O VALOR DO {} É DE R$ {},00\". format(eletronicos[i], valor[i]))"
   ]
  },
  {
   "cell_type": "code",
   "execution_count": 10,
   "id": "865fc9db",
   "metadata": {},
   "outputs": [
    {
     "name": "stdout",
     "output_type": "stream",
     "text": [
      "digite um nome do produto:ps3\n"
     ]
    },
    {
     "ename": "TypeError",
     "evalue": "'in <string>' requires string as left operand, not list",
     "output_type": "error",
     "traceback": [
      "\u001b[1;31m---------------------------------------------------------------------------\u001b[0m",
      "\u001b[1;31mTypeError\u001b[0m                                 Traceback (most recent call last)",
      "\u001b[1;32m~\\AppData\\Local\\Temp/ipykernel_12292/4044524523.py\u001b[0m in \u001b[0;36m<module>\u001b[1;34m\u001b[0m\n\u001b[0;32m      1\u001b[0m \u001b[0meletronicos\u001b[0m \u001b[1;33m=\u001b[0m\u001b[1;33m[\u001b[0m\u001b[1;34m'ps3'\u001b[0m\u001b[1;33m,\u001b[0m \u001b[1;34m'ps4'\u001b[0m\u001b[1;33m,\u001b[0m \u001b[1;34m'ps5'\u001b[0m\u001b[1;33m,\u001b[0m \u001b[1;34m'xbox'\u001b[0m\u001b[1;33m,\u001b[0m \u001b[1;34m'iphone'\u001b[0m\u001b[1;33m]\u001b[0m\u001b[1;33m\u001b[0m\u001b[1;33m\u001b[0m\u001b[0m\n\u001b[0;32m      2\u001b[0m \u001b[0mpesquisa\u001b[0m \u001b[1;33m=\u001b[0m \u001b[0minput\u001b[0m\u001b[1;33m(\u001b[0m\u001b[1;34m\"digite um nome do produto:\"\u001b[0m\u001b[1;33m)\u001b[0m\u001b[1;33m\u001b[0m\u001b[1;33m\u001b[0m\u001b[0m\n\u001b[1;32m----> 3\u001b[1;33m \u001b[1;32mif\u001b[0m \u001b[0meletronicos\u001b[0m \u001b[1;32min\u001b[0m \u001b[0mpesquisa\u001b[0m\u001b[1;33m:\u001b[0m\u001b[1;33m\u001b[0m\u001b[1;33m\u001b[0m\u001b[0m\n\u001b[0m\u001b[0;32m      4\u001b[0m  \u001b[0mi\u001b[0m \u001b[1;33m=\u001b[0m \u001b[0meletronicos\u001b[0m\u001b[1;33m.\u001b[0m\u001b[0mindex\u001b[0m\u001b[1;33m(\u001b[0m\u001b[0meletronicos\u001b[0m\u001b[1;33m)\u001b[0m\u001b[1;33m\u001b[0m\u001b[1;33m\u001b[0m\u001b[0m\n\u001b[0;32m      5\u001b[0m \u001b[0mprint\u001b[0m\u001b[1;33m(\u001b[0m\u001b[1;34m\"A posição do produto é {} : \"\u001b[0m\u001b[1;33m.\u001b[0m\u001b[0mformat\u001b[0m\u001b[1;33m(\u001b[0m\u001b[0meletronicos\u001b[0m\u001b[1;33m[\u001b[0m\u001b[0mi\u001b[0m\u001b[1;33m]\u001b[0m\u001b[1;33m)\u001b[0m\u001b[1;33m)\u001b[0m\u001b[1;33m\u001b[0m\u001b[1;33m\u001b[0m\u001b[0m\n",
      "\u001b[1;31mTypeError\u001b[0m: 'in <string>' requires string as left operand, not list"
     ]
    }
   ],
   "source": [
    "eletronicos =['ps3', 'ps4', 'ps5', 'xbox', 'iphone']\n",
    "pesquisa = input(\"digite um nome do produto:\")\n",
    "if eletronicos in pesquisa: \n",
    " i = eletronicos.index(eletronicos)\n",
    "print(\"A posição do produto é {} : \".format(eletronicos[i]))  "
   ]
  },
  {
   "cell_type": "code",
   "execution_count": null,
   "id": "c7f9d564",
   "metadata": {},
   "outputs": [],
   "source": []
  }
 ],
 "metadata": {
  "kernelspec": {
   "display_name": "Python 3 (ipykernel)",
   "language": "python",
   "name": "python3"
  },
  "language_info": {
   "codemirror_mode": {
    "name": "ipython",
    "version": 3
   },
   "file_extension": ".py",
   "mimetype": "text/x-python",
   "name": "python",
   "nbconvert_exporter": "python",
   "pygments_lexer": "ipython3",
   "version": "3.9.7"
  }
 },
 "nbformat": 4,
 "nbformat_minor": 5
}
